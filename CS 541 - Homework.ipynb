{
 "cells": [
  {
   "cell_type": "markdown",
   "metadata": {},
   "source": [
    "![](NCSU-CSS.png)"
   ]
  },
  {
   "cell_type": "markdown",
   "metadata": {},
   "source": [
    "# <font  color='red'>CS 541 Homework (GWAS & GS)</font>\n",
    "\n",
    "### Submit a separate page answering the six questions in this document"
   ]
  },
  {
   "cell_type": "markdown",
   "metadata": {},
   "source": [
    "First, we're going to install packages and dependencies for plotting and modeling the genomic data\n",
    "- GGPlot2 - https://ggplot2.tidyverse.org/, https://www.rdocumentation.org/packages/ggplot2/versions/3.3.2\n",
    "- Sommer - https://www.rdocumentation.org/packages/sommer/versions/3.1\n",
    "\n",
    "We're using an older version of Sommer since these are constantly updated (every 3 months) and the following code was developed for version 3.1"
   ]
  },
  {
   "cell_type": "code",
   "execution_count": null,
   "metadata": {
    "scrolled": false
   },
   "outputs": [],
   "source": [
    "install.packages('versions')\n",
    "install.packages('ggplot2')\n",
    "library(versions)\n",
    "#available.versions(\"sommer\")\n",
    "install.versions(\"sommer\", \"3.1\")\n",
    "library(sommer)\n",
    "library(ggplot2)"
   ]
  },
  {
   "cell_type": "markdown",
   "metadata": {},
   "source": [
    "Read in the numericalized genotype data for the maize diversity panel within mdp_num_geno.csv."
   ]
  },
  {
   "cell_type": "code",
   "execution_count": null,
   "metadata": {},
   "outputs": [],
   "source": [
    "geno = read.csv(\"mdp_num_geno.csv\")\n",
    "geno[1:10,1:5] #show a slice of the data frame"
   ]
  },
  {
   "cell_type": "markdown",
   "metadata": {},
   "source": [
    "Note that genotype scores are counts of minor allele at each marker.\n",
    "\n",
    "You may also want information on the genomic position of each marker, you can read that in from another file called MarkerInfo.csv."
   ]
  },
  {
   "cell_type": "code",
   "execution_count": null,
   "metadata": {},
   "outputs": [],
   "source": [
    "MarkerInfo = read.csv(\"MarkerInfo.csv\")\n",
    "head(MarkerInfo)"
   ]
  },
  {
   "cell_type": "markdown",
   "metadata": {},
   "source": [
    "Get the trait data (mean values for each line):"
   ]
  },
  {
   "cell_type": "code",
   "execution_count": null,
   "metadata": {},
   "outputs": [],
   "source": [
    "pheno = read.csv(\"mdp_pheno.csv\")\n",
    "head(pheno)"
   ]
  },
  {
   "cell_type": "markdown",
   "metadata": {},
   "source": [
    "Let’s look at population structure with principal components analysis of the genotype matrix. Unfortunately, we cannot do PC decomposition of a matrix with missing values, so we need to fill those missing values somehow. This requires imputation, which should be done with great care, but for our purposes we will just impute the major allele homozygote for all NA values:"
   ]
  },
  {
   "cell_type": "code",
   "execution_count": null,
   "metadata": {},
   "outputs": [],
   "source": [
    "gmat = as.matrix(geno[,-1])\n",
    "rownames(gmat) = geno[,1]\n",
    "gmat[is.na(gmat)] = 0\n",
    "\n",
    "#find some marker columns that are all zeroes and drop them\n",
    "dropcols = which(colMeans(gmat) == 0)\n",
    "gmat = gmat[,-dropcols]\n",
    "str(gmat)"
   ]
  },
  {
   "cell_type": "markdown",
   "metadata": {},
   "source": [
    "Create the Principal Components using the prcomp function"
   ]
  },
  {
   "cell_type": "code",
   "execution_count": null,
   "metadata": {},
   "outputs": [],
   "source": [
    "pcs = prcomp(gmat, center = T, scale = T, retx = T)\n",
    "str(pcs)"
   ]
  },
  {
   "cell_type": "markdown",
   "metadata": {},
   "source": [
    "The returned object is a dictionary-like list with a bunch of useful things in it. The variance associated with each PC is reported as standard deviations in the list component sdev. Let’s use that to compute the percent variance associated with the first 5 PCs:"
   ]
  },
  {
   "cell_type": "code",
   "execution_count": null,
   "metadata": {},
   "outputs": [],
   "source": [
    "PC_vars = pcs$sdev^2\n",
    "total_var = sum(PC_vars)\n",
    "percent_var = PC_vars/total_var*100\n",
    "percent_var[1:5]"
   ]
  },
  {
   "cell_type": "markdown",
   "metadata": {},
   "source": [
    "Let’s display the lines on the first two PCs of marker data. We can pull out the scores of the lines on the first two PCs from the first two columns of pcs$x. To make some sense of things, we will color the lines from a couple of distinct breeding groups to see if they follow the patterns expected based on pedigrees."
   ]
  },
  {
   "cell_type": "code",
   "execution_count": null,
   "metadata": {},
   "outputs": [],
   "source": [
    "PCs_lines = data.frame(pcs$x[,1:2])\n",
    "PCs_lines$Line = geno$Line\n",
    "PCs_lines$group = ifelse(substr(PCs_lines$Line,1,3) == \"CML\", \"CML\",\n",
    "                         ifelse(PCs_lines$Line %in% c(\"B37\", \"B73\", \"B104\",\"A632\"), \"Stiff Stalk\",\n",
    "                                ifelse(PCs_lines$Line %in% c(\"MO17\", \"OH43\", \"B97\", \"OH7B\"), \"Non-Stiff Stalk\", \"NA\")))\n",
    "\n",
    "pc_plot = ggplot(PCs_lines, aes(x = PC1, y = PC2)) +\n",
    "  geom_point(aes(colour = group))\n",
    "\n",
    "pc_plot"
   ]
  },
  {
   "cell_type": "markdown",
   "metadata": {},
   "source": [
    "# Question 1\n",
    "\n",
    "Is there a relationship between days to pollen shed (dpoll) and population structure? Regress dpoll on the first three PCs from the analysis above and see if any of the three PCs are significantly related to dpoll. Here is some code to get you started:"
   ]
  },
  {
   "cell_type": "code",
   "execution_count": null,
   "metadata": {
    "scrolled": true
   },
   "outputs": [],
   "source": [
    "PCs_pheno = merge(PCs_lines, pheno, by = \"Line\")\n",
    "PCs_pheno$PC3 = pcs$x[,3]\n",
    "head(PCs_pheno)"
   ]
  },
  {
   "cell_type": "markdown",
   "metadata": {},
   "source": [
    "Here is how I would regress EarHT on the first two principal components:\n",
    "\n",
    "(Hint: Do the same but with dpoll and the first three PCs)"
   ]
  },
  {
   "cell_type": "code",
   "execution_count": null,
   "metadata": {},
   "outputs": [],
   "source": [
    "EHT_pc1 = lm(formula = EarHT ~ PC1 + PC2, data = PCs_pheno)\n",
    "summary(EHT_pc1)"
   ]
  },
  {
   "cell_type": "markdown",
   "metadata": {},
   "source": [
    "# Question 2\n",
    "\n",
    "Compute LD r<sup>2</sup> values between all pairs of the following markers: [marker chrom pos_Agpv1] See GWAS lecture.\n",
    "> #### zagl1.2 1 4835558 \n",
    "> #### zagl1.6 1 4835658 \n",
    "> #### PZA00236.7 3 189437413 \n",
    "> #### PZA01228.2 3 189861328 \n",
    "> #### PZA03351.1 10 89122261\n",
    "\n",
    "Use the ‘imputed’ data set \"gmat\" to start with. Set any heterozygous calls to 0 (code below) for this question, so that you can directly estimate haplotype frequencies from the genotype frequencies (this is a nice property of homozygous lines). Show me how you did this by hand, or by using some functions in base R or other software. Try not to use special software packages that are explicitly designed to compute LD statistics.\n",
    "\n",
    "Here is how to get a slice of the dataframe for just these markers with heterozygous calls ('1') changed to ('0') or homozygous calls for the major allele:"
   ]
  },
  {
   "cell_type": "code",
   "execution_count": null,
   "metadata": {},
   "outputs": [],
   "source": [
    "selector = c('zagl1.2', 'zagl1.6','PZA00236.7','PZA01228.2',\n",
    "'PZA03351.1')\n",
    "geno_sub = gmat[, selector]\n",
    "geno_sub[geno_sub == 1] = 0\n",
    "head(geno_sub)"
   ]
  },
  {
   "cell_type": "markdown",
   "metadata": {},
   "source": [
    "# Question 3\n",
    "\n",
    "Test the same set of 5 markers selected in Question 2 for association with dpoll. For this question, do NOT do any correction for population structure. Just do an ANOVA or regression of the trait on the number of minor alleles carried by each line at. Which markers would you declare signficantly associated with flowering time at p = 0.001 threshold?"
   ]
  },
  {
   "cell_type": "markdown",
   "metadata": {},
   "source": [
    "First, merge all of data (3 PCs, 5 selected markers and phenotypes) together into All_pheno."
   ]
  },
  {
   "cell_type": "code",
   "execution_count": null,
   "metadata": {},
   "outputs": [],
   "source": [
    "Line = rownames(geno_sub)\n",
    "geno_sub = cbind(Line,geno_sub)\n",
    "rownames(geno_sub) = 1:nrow(geno_sub)\n",
    "All_pheno = merge(PCs_pheno, geno_sub, by=\"Line\")\n",
    "head(All_pheno)"
   ]
  },
  {
   "cell_type": "markdown",
   "metadata": {},
   "source": [
    "Hint: Use the same formula type above but for the 5 selected markers only"
   ]
  },
  {
   "cell_type": "code",
   "execution_count": null,
   "metadata": {},
   "outputs": [],
   "source": [
    "# Add code here"
   ]
  },
  {
   "cell_type": "markdown",
   "metadata": {},
   "source": [
    "# Question 4\n",
    "\n",
    "Test the same set of 5 markers again, but this time include the first three PCs from the marker data as covariates in the analysis. How do your results change?\n",
    "\n",
    "Hint: Add all 8 into the same formula"
   ]
  },
  {
   "cell_type": "code",
   "execution_count": null,
   "metadata": {},
   "outputs": [],
   "source": [
    "# Add code here"
   ]
  },
  {
   "cell_type": "markdown",
   "metadata": {},
   "source": [
    "# Question 5\n",
    "\n",
    "Create a realized genomic relationship matrix from the marker data. We’ll use the A.mat() function in R package ‘sommer’ to do this and to fit mixed models."
   ]
  },
  {
   "cell_type": "code",
   "execution_count": null,
   "metadata": {},
   "outputs": [],
   "source": [
    "K = A.mat(X = gmat)\n",
    "rownames(K) = rownames(gmat)\n",
    "print(K[1:5,1:5])\n",
    "heatmap(K, symm = T)"
   ]
  },
  {
   "cell_type": "markdown",
   "metadata": {},
   "source": [
    "Notice that inbred lines should have diagonal elements near 2.0, and unrelated pairs should have off-diagonal elements near 0. Values greater than 0 indicate closer relationships than expected by chance, less than 0 are more distant than by chance.\n",
    "\n",
    "Now we can re-fit the association tests using a mixed model with K as the relationship matrix via mmer2() function in sommer. "
   ]
  },
  {
   "cell_type": "markdown",
   "metadata": {},
   "source": [
    "As a first example, here is how I would fit the K (kinship) matrix to model the variance-covariance of the lines, with no fixed effects in the model:"
   ]
  },
  {
   "cell_type": "code",
   "execution_count": null,
   "metadata": {},
   "outputs": [],
   "source": [
    "rand_mod = mmer2(fixed = dpoll ~ 1, random = ~g(Line), rcov = ~units, G = list(Line = K), data = All_pheno, silent = T)\n",
    "summary(rand_mod)"
   ]
  },
  {
   "cell_type": "markdown",
   "metadata": {},
   "source": [
    "‘dpoll ~ 1’ means we are fitting just the intercept as a fixed effect in this model. In the next model, you will see how to fit a fixed model term.\n",
    "\n",
    "We can estimate the heritability for dpoll in this experiment using the variance components estimated:"
   ]
  },
  {
   "cell_type": "code",
   "execution_count": null,
   "metadata": {},
   "outputs": [],
   "source": [
    "Vg = rand_mod$var.comp$`g(Line)`\n",
    "Verr = rand_mod$var.comp$units\n",
    "Vp = Vg + Verr\n",
    "h2 = Vg/Vp\n",
    "print(paste(\"Vg:\", Vg))\n",
    "print(paste(\"Verr:\", Verr))\n",
    "print(paste(\"Vp:\", Vp))\n",
    "print(paste(\"Heritability:\", h2))"
   ]
  },
  {
   "cell_type": "markdown",
   "metadata": {},
   "source": [
    "In this example, here is how I would fit the first PC as a fixed effect and the lines as random with covariance structure proportional to the K (kinship) matrix:"
   ]
  },
  {
   "cell_type": "code",
   "execution_count": null,
   "metadata": {},
   "outputs": [],
   "source": [
    "mlm_ex = mmer2(fixed = dpoll ~ PC1, random = ~g(Line), rcov = ~units, G = list(Line = K), data = All_pheno, silent = T)\n",
    "summary(mlm_ex)"
   ]
  },
  {
   "cell_type": "markdown",
   "metadata": {},
   "source": [
    "Now, fit the association tests for the 5 selected markers using the relationship matrix (K) to model the genetic backgrounds/population structure. Compare the marker effect estimates from this model to the two previous models, explain which estimates might be more reliable."
   ]
  },
  {
   "cell_type": "markdown",
   "metadata": {},
   "source": [
    "For convenience > zagl1.2, zagl1.6, PZA00236.7, PZA01228.2, PZA03351.1"
   ]
  },
  {
   "cell_type": "code",
   "execution_count": null,
   "metadata": {},
   "outputs": [],
   "source": [
    "# Add code here"
   ]
  },
  {
   "cell_type": "markdown",
   "metadata": {},
   "source": [
    "# Question 6\n",
    "\n",
    "Finally, let’s fit a genomic selection model to these data and cross-validate it. We first partition the lines according to their PC1 scores to see if we can create a model using 80% of lines with lower values, how well does it predict values of the other 20% of lines?"
   ]
  },
  {
   "cell_type": "code",
   "execution_count": null,
   "metadata": {},
   "outputs": [],
   "source": [
    "ordered_lines = PCs_lines[order(PCs_lines$PC1), \"Line\"]\n",
    "last = length(ordered_lines)\n",
    "first = ceiling(0.8*last)\n",
    "print(paste(\"First and last indices of lines in test set:\", first, \",\", last))\n",
    "test_set = ordered_lines[first:last]\n",
    "head(test_set)"
   ]
  },
  {
   "cell_type": "markdown",
   "metadata": {},
   "source": [
    "Make a new variable ‘dpoll_train’ and use the vector of test_set line names to set their dpoll values to missing."
   ]
  },
  {
   "cell_type": "code",
   "execution_count": null,
   "metadata": {},
   "outputs": [],
   "source": [
    "pheno$dpoll_train = pheno$dpoll\n",
    "pheno[pheno$Line %in% test_set, \"dpoll_train\"] = NA"
   ]
  },
  {
   "cell_type": "markdown",
   "metadata": {},
   "source": [
    "Now fit the genomic selection model on the training data and predict the values for all individuals"
   ]
  },
  {
   "cell_type": "code",
   "execution_count": null,
   "metadata": {},
   "outputs": [],
   "source": [
    "gs_mod = mmer2(fixed = dpoll_train ~ 1, random = ~g(Line), rcov = ~units, G = list(Line = K), data = pheno, silent = T)\n",
    "summary(gs_mod)"
   ]
  },
  {
   "cell_type": "markdown",
   "metadata": {},
   "source": [
    "We can extract the predicted values from gs_mod$fitted.y"
   ]
  },
  {
   "cell_type": "code",
   "execution_count": null,
   "metadata": {},
   "outputs": [],
   "source": [
    "pheno$dpoll_pred = gs_mod$fitted.y"
   ]
  },
  {
   "cell_type": "markdown",
   "metadata": {},
   "source": [
    "Your job is to compare the predicted values to the observed dpoll values of only the lines in the test set. Compute the correlation, how good is the genomic prediction model compared to direct phenotypic measurements? Also, draw a scatterplot of the observed values on y-axis vs predicted values on x-axis for only the test set lines.\n",
    "\n",
    "Below will output the final dataset - pheno - to a csv file. This can be downloaded from the main page of the initial Binder launch."
   ]
  },
  {
   "cell_type": "code",
   "execution_count": null,
   "metadata": {},
   "outputs": [],
   "source": [
    "write.csv(pheno, file = 'predictions.csv', row.names = FALSE)"
   ]
  }
 ],
 "metadata": {
  "kernelspec": {
   "display_name": "R",
   "language": "R",
   "name": "ir"
  },
  "language_info": {
   "codemirror_mode": "r",
   "file_extension": ".r",
   "mimetype": "text/x-r-source",
   "name": "R",
   "pygments_lexer": "r",
   "version": "3.6.1"
  }
 },
 "nbformat": 4,
 "nbformat_minor": 4
}
